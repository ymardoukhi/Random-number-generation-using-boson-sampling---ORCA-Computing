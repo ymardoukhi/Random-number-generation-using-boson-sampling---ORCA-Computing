{
 "cells": [
  {
   "cell_type": "code",
   "execution_count": 1,
   "id": "9b4b5941",
   "metadata": {},
   "outputs": [],
   "source": [
    "import numpy as np\n",
    "from tqdm import tqdm\n",
    "import multiprocessing as mp\n",
    "from collections import Counter\n",
    "\n",
    "# set the random seed\n",
    "# np.random.seed(43)\n",
    "\n",
    "# import Strawberry Fields\n",
    "import strawberryfields as sf\n",
    "from strawberryfields.ops import *\n",
    "\n",
    "import matplotlib.pyplot as plt"
   ]
  },
  {
   "cell_type": "code",
   "execution_count": 70,
   "id": "7597bd01",
   "metadata": {},
   "outputs": [],
   "source": [
    "np.random.seed(0)\n",
    "# initialize a 1 mode program\n",
    "boson_sampling = sf.Program(4)\n",
    "\n",
    "with boson_sampling.context as q:\n",
    "    \n",
    "    Fock(1) | q[0]\n",
    "    Vac     | q[1]\n",
    "    Fock(1) | q[2]\n",
    "    Fock(1) | q[3]\n",
    "\n",
    "    BSgate(np.pi/4, np.pi/2) | (q[0], q[1])\n",
    "    BSgate(np.pi/4, np.pi/2) | (q[2], q[3])\n",
    "    BSgate(np.pi/4, np.pi/2) | (q[1], q[2])\n",
    "    BSgate(np.pi/4, np.pi/2) | (q[0], q[1])\n",
    "    BSgate(np.pi/4, np.pi/2) | (q[2], q[3])\n",
    "    # BSgate(np.pi/4, np.pi/2) | (q[1], q[2])\n",
    "    # BSgate(np.pi/4, np.pi/2) | (q[0], q[1])\n",
    "    # BSgate(np.pi/4, np.pi/2) | (q[2], q[3])\n",
    "\n",
    "    MeasureFock() | q"
   ]
  },
  {
   "cell_type": "code",
   "execution_count": 78,
   "id": "b40d252b",
   "metadata": {},
   "outputs": [],
   "source": [
    "eng = sf.Engine(backend=\"fock\", backend_options={\"cutoff_dim\": 4})\n",
    "res = eng.run(program=boson_sampling)"
   ]
  },
  {
   "cell_type": "code",
   "execution_count": 79,
   "id": "f4f6267d",
   "metadata": {},
   "outputs": [
    {
     "data": {
      "text/plain": [
       "array([[0, 2, 0, 1]])"
      ]
     },
     "execution_count": 79,
     "metadata": {},
     "output_type": "execute_result"
    }
   ],
   "source": [
    "res.state."
   ]
  },
  {
   "cell_type": "code",
   "execution_count": 42,
   "id": "1b13e6bd",
   "metadata": {},
   "outputs": [],
   "source": [
    "eng = sf.Engine(backend=\"fock\", backend_options={\"cutoff_dim\": 4})\n",
    "\n",
    "def simulate_boson_samp(i):\n",
    "    return str(tuple(eng.run(program=boson_sampling).samples[0]))\n",
    "\n",
    "shots = 100\n",
    "pool = mp.Pool(10)\n",
    "res = pool.map(simulate_boson_samp, range(shots))"
   ]
  },
  {
   "cell_type": "code",
   "execution_count": 43,
   "id": "654d9827",
   "metadata": {},
   "outputs": [],
   "source": [
    "res = Counter(res)\n",
    "output_dict = {}\n",
    "for key in res.keys():\n",
    "    output_dict[str(key)] = res[key]/shots\n"
   ]
  },
  {
   "cell_type": "code",
   "execution_count": 44,
   "id": "6c596b05",
   "metadata": {},
   "outputs": [
    {
     "data": {
      "image/png": "[encoded data removed]",
      "text/plain": [
       "<Figure size 864x432 with 1 Axes>"
      ]
     },
     "metadata": {
      "needs_background": "light"
     },
     "output_type": "display_data"
    }
   ],
   "source": [
    "fig = plt.figure(figsize=(12, 6))\n",
    "ax = fig.add_subplot(111)\n",
    "ax.bar(list(output_dict.keys()), list(output_dict.values()))\n",
    "plt.show()\n",
    "plt.close(fig=fig)"
   ]
  },
  {
   "cell_type": "code",
   "execution_count": 5,
   "id": "6ea0d0fe",
   "metadata": {},
   "outputs": [
    {
     "data": {
      "text/plain": [
       "<BarContainer object of 6 artists>"
      ]
     },
     "execution_count": 5,
     "metadata": {},
     "output_type": "execute_result"
    },
    {
     "data": {
      "image/png": "[encoded data removed]",
      "text/plain": [
       "<Figure size 432x288 with 1 Axes>"
      ]
     },
     "metadata": {
      "needs_background": "light"
     },
     "output_type": "display_data"
    }
   ],
   "source": [
    "plt.bar(list(output_dict.keys()), list(output_dict.values()))"
   ]
  },
  {
   "cell_type": "code",
   "execution_count": 20,
   "id": "56c815d7",
   "metadata": {},
   "outputs": [],
   "source": [
    "# initialize a 1 mode program\n",
    "boson_sampling = sf.Program(4)\n",
    "\n",
    "with boson_sampling.context as q:\n",
    "    \n",
    "    Fock(0) | q[0]\n",
    "    Fock(2) | q[1]\n",
    "    Fock(0) | q[2]\n",
    "    Fock(0) | q[3]\n",
    "\n",
    "    BSgate(np.pi/4, np.pi/2) | (q[1], q[2])\n",
    "    BSgate(np.pi/4, np.pi/2) | (q[0], q[1])\n",
    "    BSgate(np.pi/4, np.pi/2) | (q[2], q[3])\n",
    "\n",
    "    MeasureFock() | q"
   ]
  },
  {
   "cell_type": "code",
   "execution_count": 21,
   "id": "9077c43b",
   "metadata": {},
   "outputs": [],
   "source": [
    "eng = sf.Engine(backend=\"fock\", backend_options={\"cutoff_dim\": 7})\n",
    "\n",
    "def simulate_boson_samp(i):\n",
    "    return str(tuple(eng.run(program=boson_sampling).samples[0]))\n",
    "\n",
    "shots = 100\n",
    "pool = mp.Pool(10)\n",
    "result = pool.map(simulate_boson_samp, range(shots))"
   ]
  },
  {
   "cell_type": "code",
   "execution_count": 19,
   "id": "ae77d529",
   "metadata": {},
   "outputs": [
    {
     "data": {
      "text/plain": [
       "<BarContainer object of 5 artists>"
      ]
     },
     "execution_count": 19,
     "metadata": {},
     "output_type": "execute_result"
    },
    {
     "data": {
      "image/png": "[encoded data removed]",
      "text/plain": [
       "<Figure size 432x288 with 1 Axes>"
      ]
     },
     "metadata": {
      "needs_background": "light"
     },
     "output_type": "display_data"
    }
   ],
   "source": [
    "result = Counter(result)\n",
    "output_dict = {}\n",
    "for key in result.keys():\n",
    "    output_dict[str(key)] = result[key]/shots\n",
    "plt.bar(list(output_dict.keys()), list(output_dict.values()))"
   ]
  },
  {
   "cell_type": "code",
   "execution_count": 22,
   "id": "b4e62d09",
   "metadata": {},
   "outputs": [
    {
     "data": {
      "text/plain": [
       "<BarContainer object of 5 artists>"
      ]
     },
     "execution_count": 22,
     "metadata": {},
     "output_type": "execute_result"
    },
    {
     "data": {
      "image/png": "[encoded data removed]",
      "text/plain": [
       "<Figure size 432x288 with 1 Axes>"
      ]
     },
     "metadata": {
      "needs_background": "light"
     },
     "output_type": "display_data"
    }
   ],
   "source": [
    "result = Counter(result)\n",
    "output_dict = {}\n",
    "for key in result.keys():\n",
    "    output_dict[str(key)] = result[key]/shots\n",
    "plt.bar(list(output_dict.keys()), list(output_dict.values()))"
   ]
  },
  {
   "cell_type": "code",
   "execution_count": 23,
   "id": "14028b1a",
   "metadata": {},
   "outputs": [],
   "source": [
    "import json"
   ]
  },
  {
   "cell_type": "code",
   "execution_count": 26,
   "id": "1da19db3",
   "metadata": {},
   "outputs": [],
   "source": [
    "with open(\"/home/yousof/res.json\", \"w\") as f:\n",
    "    json.dump(res, f)\n",
    "with open(\"/home/yousof/result.json\", \"w\") as f:\n",
    "    json.dump(result, f)"
   ]
  },
  {
   "cell_type": "code",
   "execution_count": 104,
   "id": "9b7b131b",
   "metadata": {},
   "outputs": [],
   "source": [
    "prog = sf.Program(3)\n",
    "\n",
    "with prog.context as q:\n",
    "    Fock(1) | q[0]\n",
    "    Fock(1) | q[1]\n",
    "    Fock(1) | q[2]\n",
    "    BSgate(0.43, 0.1) | (q[0], q[2])\n",
    "    BSgate(0.43, 0.1) | (q[1], q[2])\n",
    "\n",
    "eng = sf.Engine(\"fock\", backend_options={\"cutoff_dim\": 7})\n",
    "result = eng.run(prog)\n",
    "state = result.state\n",
    "probs = state.all_fock_probs()"
   ]
  },
  {
   "cell_type": "code",
   "execution_count": 105,
   "id": "980c855b",
   "metadata": {},
   "outputs": [
    {
     "data": {
      "text/plain": [
       "array([3, 2, 1, 0, 2, 1, 0, 1, 0])"
      ]
     },
     "execution_count": 105,
     "metadata": {},
     "output_type": "execute_result"
    }
   ],
   "source": [
    "np.where(state.all_fock_probs() > 0)[2]"
   ]
  },
  {
   "cell_type": "code",
   "execution_count": null,
   "id": "d2941e01",
   "metadata": {},
   "outputs": [],
   "source": []
  }
 ],
 "metadata": {
  "kernelspec": {
   "display_name": "Python 3.9.2 ('boson_samp')",
   "language": "python",
   "name": "python3"
  },
  "language_info": {
   "codemirror_mode": {
    "name": "ipython",
    "version": 3
   },
   "file_extension": ".py",
   "mimetype": "text/x-python",
   "name": "python",
   "nbconvert_exporter": "python",
   "pygments_lexer": "ipython3",
   "version": "3.9.2"
  },
  "vscode": {
   "interpreter": {
    "hash": "48972db171825a6c7e88ad1fdd2945e44ca1ccaeb38e3f8b2256e6d88c8c80ab"
   }
  }
 },
 "nbformat": 4,
 "nbformat_minor": 5
}
