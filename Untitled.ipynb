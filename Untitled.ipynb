{
 "cells": [
  {
   "cell_type": "code",
   "execution_count": 15,
   "id": "9b4b5941",
   "metadata": {},
   "outputs": [],
   "source": [
    "import numpy as np\n",
    "\n",
    "# set the random seed\n",
    "np.random.seed(42)\n",
    "\n",
    "# import Strawberry Fields\n",
    "import strawberryfields as sf\n",
    "from strawberryfields.ops import *\n",
    "\n",
    "# initialize a 1 mode program\n",
    "boson_sampling = sf.Program(2)"
   ]
  },
  {
   "cell_type": "code",
   "execution_count": 16,
   "id": "7597bd01",
   "metadata": {},
   "outputs": [],
   "source": [
    "with boson_sampling.context as q:\n",
    "    \n",
    "    Fock(1) | q[0]\n",
    "    Fock(1) | q[1]\n",
    "    \n",
    "    Rgate(0.5) | q[0]\n",
    "    BSgate(0.45, 0.45) | (q[0], q[1])"
   ]
  },
  {
   "cell_type": "code",
   "execution_count": 17,
   "id": "1b13e6bd",
   "metadata": {},
   "outputs": [],
   "source": [
    "eng = sf.Engine(backend=\"fock\", backend_options={\"cutoff_dim\": 7})\n",
    "results = eng.run(boson_sampling)"
   ]
  },
  {
   "cell_type": "code",
   "execution_count": 18,
   "id": "ff781f9c",
   "metadata": {},
   "outputs": [
    {
     "name": "stdout",
     "output_type": "stream",
     "text": [
      "0.3863989526534564\n",
      "0.0\n",
      "0.0\n",
      "0.0\n"
     ]
    }
   ],
   "source": [
    "# extract the joint Fock probabilities\n",
    "probs = results.state.all_fock_probs()\n",
    "\n",
    "# print the joint Fock state probabilities\n",
    "print(probs[1, 1])\n",
    "print(probs[0, 0])\n",
    "print(probs[1, 0])\n",
    "print(probs[0, 1])"
   ]
  },
  {
   "cell_type": "code",
   "execution_count": null,
   "id": "eb89fdbf",
   "metadata": {},
   "outputs": [],
   "source": []
  }
 ],
 "metadata": {
  "kernelspec": {
   "display_name": "Python 3 (ipykernel)",
   "language": "python",
   "name": "python3"
  },
  "language_info": {
   "codemirror_mode": {
    "name": "ipython",
    "version": 3
   },
   "file_extension": ".py",
   "mimetype": "text/x-python",
   "name": "python",
   "nbconvert_exporter": "python",
   "pygments_lexer": "ipython3",
   "version": "3.9.10"
  }
 },
 "nbformat": 4,
 "nbformat_minor": 5
}
